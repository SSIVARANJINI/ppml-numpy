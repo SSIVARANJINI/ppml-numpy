{
 "cells": [
  {
   "cell_type": "code",
   "execution_count": 3,
   "id": "da7ffe2a-2163-4349-a6c3-b785d72711c5",
   "metadata": {},
   "outputs": [
    {
     "name": "stdout",
     "output_type": "stream",
     "text": [
      "0    M\n",
      "1    a\n",
      "2    i\n",
      "3    t\n",
      "4    h\n",
      "5    r\n",
      "6    e\n",
      "7    s\n",
      "8    h\n",
      "dtype: string\n"
     ]
    }
   ],
   "source": [
    "import pandas as pd\n",
    "import pandas as np\n",
    "a=np.array(['M','a','i','t','h','r','e','s','h'])\n",
    "m=pd.Series(a)\n",
    "print(m)"
   ]
  },
  {
   "cell_type": "code",
   "execution_count": 15,
   "id": "005245d8-ff83-4b3b-9bab-8830e2fabd92",
   "metadata": {},
   "outputs": [
    {
     "name": "stdout",
     "output_type": "stream",
     "text": [
      "r    0\n",
      "o    1\n",
      "n    2\n",
      "dtype: int64\n"
     ]
    }
   ],
   "source": [
    "c={'r':0,'o':1,'n':2}\n",
    "m=pd.Series(c)\n",
    "print(m)"
   ]
  },
  {
   "cell_type": "code",
   "execution_count": 14,
   "id": "66b6da10-314f-450d-8f24-b848fae12dea",
   "metadata": {},
   "outputs": [
    {
     "name": "stdout",
     "output_type": "stream",
     "text": [
      "0    13\n",
      "1    13\n",
      "2    13\n",
      "3    13\n",
      "dtype: int64\n"
     ]
    }
   ],
   "source": [
    "scalar=pd.Series(13,index=[0,1,2,3])\n",
    "print(scalar)"
   ]
  },
  {
   "cell_type": "code",
   "execution_count": 23,
   "id": "2711a558-d166-4655-99e0-1e2fc9256608",
   "metadata": {},
   "outputs": [
    {
     "name": "stdout",
     "output_type": "stream",
     "text": [
      "\n",
      " A Series:\n",
      " 0    m\n",
      "1    a\n",
      "2    i\n",
      "3    t\n",
      "4    h\n",
      "5    r\n",
      "6    e\n",
      "7    s\n",
      "8    h\n",
      "dtype: string\n",
      "\n",
      " Index:\n",
      " RangeIndex(start=0, stop=9, step=1)\n",
      "\n",
      " Values:\n",
      " <StringArray>\n",
      "['m', 'a', 'i', 't', 'h', 'r', 'e', 's', 'h']\n",
      "Length: 9, dtype: string\n",
      "\n",
      " Shape:\n",
      " (9,)\n",
      "\n",
      " Dimension:\n",
      " 1\n",
      "\n",
      " Size:\n",
      " 9\n"
     ]
    }
   ],
   "source": [
    "m=np.array(['m','a','i','t','h','r','e','s','h'])\n",
    "a=pd.Series(m)\n",
    "print(\"\\n A Series:\\n\",a)\n",
    "print(\"\\n Index:\\n\",a.index)\n",
    "print(\"\\n Values:\\n\",a.values)\n",
    "print(\"\\n Shape:\\n\",a.shape)\n",
    "print(\"\\n Dimension:\\n\",a.ndim)\n",
    "print(\"\\n Size:\\n\",a.size)\n",
    "\n"
   ]
  },
  {
   "cell_type": "code",
   "execution_count": null,
   "id": "3b2f3dd2-ebf9-4b32-9faf-f64cf43ff852",
   "metadata": {},
   "outputs": [],
   "source": []
  },
  {
   "cell_type": "code",
   "execution_count": null,
   "id": "e7014a66-dd87-4698-be29-ff6f76c51e36",
   "metadata": {},
   "outputs": [],
   "source": []
  }
 ],
 "metadata": {
  "kernelspec": {
   "display_name": "Python 3 (ipykernel)",
   "language": "python",
   "name": "python3"
  },
  "language_info": {
   "codemirror_mode": {
    "name": "ipython",
    "version": 3
   },
   "file_extension": ".py",
   "mimetype": "text/x-python",
   "name": "python",
   "nbconvert_exporter": "python",
   "pygments_lexer": "ipython3",
   "version": "3.11.5"
  }
 },
 "nbformat": 4,
 "nbformat_minor": 5
}
