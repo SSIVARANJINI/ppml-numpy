{
 "cells": [
  {
   "cell_type": "code",
   "execution_count": 1,
   "id": "586d5c7a-3d02-4bfd-a290-3edbdbd858c4",
   "metadata": {},
   "outputs": [
    {
     "name": "stdout",
     "output_type": "stream",
     "text": [
      "   S.NO     NAME LOGIN TIME   SALARY GENDER\n",
      "0     1  RONALDO       9:00  1000000      M\n",
      "1     2   SMRITI       8:55   850000      F\n",
      "2     3    KOHLI       9:05   980000      M\n",
      "3     4   PANDYA       9:01   672879      M\n",
      "4     5    STEPH       9:02   729404      M\n"
     ]
    }
   ],
   "source": [
    "import pandas as pd\n",
    "d=pd.read_csv(\"230901058.csv\")\n",
    "print(d)"
   ]
  },
  {
   "cell_type": "code",
   "execution_count": 3,
   "id": "5732ce0f-530f-4a21-8755-b788a34ce2a6",
   "metadata": {},
   "outputs": [
    {
     "name": "stdout",
     "output_type": "stream",
     "text": [
      "columns Index(['S.NO', 'NAME', 'LOGIN TIME', 'SALARY', 'GENDER'], dtype='object')\n",
      "(5, 5)\n"
     ]
    }
   ],
   "source": [
    "df=pd.DataFrame(d)\n",
    "print(\"columns\",df.columns)\n",
    "print(df.shape)"
   ]
  },
  {
   "cell_type": "code",
   "execution_count": 5,
   "id": "78c9839a-db2f-498c-86b7-dc5aa2b5a587",
   "metadata": {},
   "outputs": [
    {
     "name": "stdout",
     "output_type": "stream",
     "text": [
      "salary\n",
      " 0    1000000\n",
      "1     850000\n",
      "2     980000\n",
      "3     672879\n",
      "4     729404\n",
      "Name: SALARY, dtype: int64\n"
     ]
    }
   ],
   "source": [
    "print(\"salary\\n\",df.SALARY)"
   ]
  },
  {
   "cell_type": "code",
   "execution_count": 6,
   "id": "0868b8ed-88f3-46ca-ae09-69841d7ab712",
   "metadata": {},
   "outputs": [
    {
     "name": "stdout",
     "output_type": "stream",
     "text": [
      "Empty DataFrame\n",
      "Columns: [S.NO, NAME, LOGIN TIME, SALARY, GENDER]\n",
      "Index: []\n"
     ]
    }
   ],
   "source": [
    "print(df[5:9])"
   ]
  },
  {
   "cell_type": "code",
   "execution_count": 7,
   "id": "d7fb5c6e-7a8b-44ea-bd72-2dec55c438cf",
   "metadata": {},
   "outputs": [
    {
     "name": "stdout",
     "output_type": "stream",
     "text": [
      "Particular Person's Details S.NO               3\n",
      "NAME           KOHLI\n",
      "LOGIN TIME      9:05\n",
      "SALARY        980000\n",
      "GENDER             M\n",
      "Name: 2, dtype: object\n"
     ]
    }
   ],
   "source": [
    "print(\"Particular Person's Details\",df.loc[2])"
   ]
  },
  {
   "cell_type": "code",
   "execution_count": 8,
   "id": "291b6e5e-cfef-4f54-a824-b23ae074c7cc",
   "metadata": {},
   "outputs": [
    {
     "name": "stdout",
     "output_type": "stream",
     "text": [
      "   S.NO     NAME LOGIN TIME   SALARY GENDER\n",
      "0     1  RONALDO       9:00  1000000      M\n"
     ]
    }
   ],
   "source": [
    "print(d.loc[d['SALARY']==1000000])"
   ]
  },
  {
   "cell_type": "code",
   "execution_count": 9,
   "id": "5c2dd75d-2a61-4a79-ab43-8f8090e3b88a",
   "metadata": {},
   "outputs": [
    {
     "name": "stdout",
     "output_type": "stream",
     "text": [
      "0    1001.001001\n",
      "1     850.850851\n",
      "2     980.980981\n",
      "3     673.552553\n",
      "4     730.134134\n",
      "Name: SALARY, dtype: float64\n"
     ]
    }
   ],
   "source": [
    "df=d['SALARY']/999\n",
    "print(df)"
   ]
  },
  {
   "cell_type": "code",
   "execution_count": null,
   "id": "e11a3f4b-b3e3-4403-9247-c4e071e6f06d",
   "metadata": {},
   "outputs": [],
   "source": []
  }
 ],
 "metadata": {
  "kernelspec": {
   "display_name": "Python 3 (ipykernel)",
   "language": "python",
   "name": "python3"
  },
  "language_info": {
   "codemirror_mode": {
    "name": "ipython",
    "version": 3
   },
   "file_extension": ".py",
   "mimetype": "text/x-python",
   "name": "python",
   "nbconvert_exporter": "python",
   "pygments_lexer": "ipython3",
   "version": "3.11.5"
  }
 },
 "nbformat": 4,
 "nbformat_minor": 5
}
