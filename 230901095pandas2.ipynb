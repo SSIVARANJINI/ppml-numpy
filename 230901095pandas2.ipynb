{
 "cells": [
  {
   "cell_type": "code",
   "execution_count": 7,
   "id": "5f914a2a-179a-42a2-b496-975d5c51ee8a",
   "metadata": {},
   "outputs": [
    {
     "name": "stdout",
     "output_type": "stream",
     "text": [
      "\n",
      " Original DataFrame\n",
      "    S  R\n",
      "0  3  9\n",
      "1  3  9\n",
      "2  3  9\n",
      "3  3  9\n",
      "\n",
      " Square root\n",
      "           S    R\n",
      "0  1.732051  3.0\n",
      "1  1.732051  3.0\n",
      "2  1.732051  3.0\n",
      "3  1.732051  3.0\n",
      "\n",
      " Sum of each column\n",
      " S    12\n",
      "R    36\n",
      "dtype: int64\n",
      "\n",
      " Sum of each row\n",
      " 0    12\n",
      "1    12\n",
      "2    12\n",
      "3    12\n",
      "dtype: int64\n"
     ]
    }
   ],
   "source": [
    "import pandas as pd\n",
    "import numpy as np\n",
    "info=pd.DataFrame([[3,9]]*4,columns=['S','R'])\n",
    "print(\"\\n Original DataFrame\\n\",info)\n",
    "print(\"\\n Square root\\n\",info.apply(np.sqrt))\n",
    "print(\"\\n Sum of each column\\n\",info.apply(np.sum,axis=0))\n",
    "print(\"\\n Sum of each row\\n\",info.apply(np.sum,axis=1))"
   ]
  },
  {
   "cell_type": "code",
   "execution_count": 9,
   "id": "897af0ee-f2b2-4046-bcc1-90d241607a28",
   "metadata": {},
   "outputs": [
    {
     "name": "stdout",
     "output_type": "stream",
     "text": [
      "   x  y  z\n",
      "0  2  4  6\n",
      "1  1  3  5\n",
      "2  5  8  7\n",
      "     x  y  z\n",
      "min  1  3  5\n",
      "max  5  8  7\n"
     ]
    }
   ],
   "source": [
    "info=pd.DataFrame([[2,4,6],[1,3,5],[5,8,7]],columns=['x','y','z'])\n",
    "print(info)\n",
    "print(info.agg(['min','max']))"
   ]
  },
  {
   "cell_type": "code",
   "execution_count": 11,
   "id": "3b018cba-c4de-48b6-9528-706ed7b7370f",
   "metadata": {},
   "outputs": [
    {
     "name": "stdout",
     "output_type": "stream",
     "text": [
      "  EmpName  Id\n",
      "0     sai  88\n",
      "1     poo  70\n",
      "adding new column:\n",
      "   EmpName  Id  Age\n",
      "0     sai  88   20\n",
      "1     poo  70   18\n",
      "adding new column\n",
      "   EmpName  Id  Age   Sex\n",
      "0     sai  88   20  male\n",
      "1     poo  70   18  male\n"
     ]
    }
   ],
   "source": [
    "d2=pd.DataFrame([['sai',88],['poo',70]],columns=['EmpName','Id'])\n",
    "print(d2)\n",
    "d2['Age']=[20,18]\n",
    "print(\"adding new column:\\n\",d2)\n",
    "d2['Sex']=['male','male']\n",
    "print(\"adding new column\\n\",d2)"
   ]
  },
  {
   "cell_type": "code",
   "execution_count": 12,
   "id": "be6f66ce-5a48-4c39-85c3-f39dc3ec0eeb",
   "metadata": {},
   "outputs": [
    {
     "name": "stdout",
     "output_type": "stream",
     "text": [
      "  EmpName  Id  Age   Sex\n",
      "0     sai  88   20  male\n",
      "1     poo  70   18  male\n"
     ]
    }
   ],
   "source": [
    "m=d2.assign(Age=[20,18])\n",
    "print(m)"
   ]
  },
  {
   "cell_type": "code",
   "execution_count": 13,
   "id": "0437db96-ab91-4050-b1fd-7a9b96675d27",
   "metadata": {},
   "outputs": [
    {
     "name": "stdout",
     "output_type": "stream",
     "text": [
      "       col3      col4\n",
      "3 -1.199642 -1.421005\n",
      "2  0.034298 -0.806641\n",
      "0 -0.031199  0.806362\n",
      "4 -1.491436  0.358995\n",
      "1 -0.114663 -0.530044\n",
      "       col3      col4\n",
      "0 -0.031199  0.806362\n",
      "1 -0.114663 -0.530044\n",
      "2  0.034298 -0.806641\n",
      "3 -1.199642 -1.421005\n",
      "4 -1.491436  0.358995\n",
      "       col3      col4\n",
      "4 -1.491436  0.358995\n",
      "3 -1.199642 -1.421005\n",
      "1 -0.114663 -0.530044\n",
      "0 -0.031199  0.806362\n",
      "2  0.034298 -0.806641\n"
     ]
    }
   ],
   "source": [
    "info=pd.DataFrame(np.random.randn(5,2),index=[3,2,0,4,1],columns=['col3','col4'])\n",
    "print(info)\n",
    "info2=info.sort_index()\n",
    "print(info2)\n",
    "info3=info.sort_values(by='col3')\n",
    "print(info3)"
   ]
  },
  {
   "cell_type": "code",
   "execution_count": 19,
   "id": "01a1aec7-0a73-4798-b9c2-b73631395dfd",
   "metadata": {},
   "outputs": [
    {
     "name": "stdout",
     "output_type": "stream",
     "text": [
      "   id  Name   Sub\n",
      "0   1   sai  sub1\n",
      "1   2   poo  sub2\n",
      "2   3  saba  sub4\n",
      "3   4  yuvi  sub3\n",
      "   id    Name   Sub\n",
      "0   1  sanjay  sub2\n",
      "1   2   saran  sub4\n",
      "2   3     sam  sub3\n",
      "3   4    ruba  sub5\n",
      "   id Name_x Sub_x  Name_y Sub_y\n",
      "0   1    sai  sub1  sanjay  sub2\n",
      "1   2    poo  sub2   saran  sub4\n",
      "2   3   saba  sub4     sam  sub3\n",
      "3   4   yuvi  sub3    ruba  sub5\n"
     ]
    }
   ],
   "source": [
    "import pandas as pd\n",
    "import numpy as np\n",
    "left=pd.DataFrame({'id':[1,2,3,4],'Name':['sai','poo','saba','yuvi'],'Sub':['sub1','sub2','sub4','sub3']})\n",
    "right=pd.DataFrame({'id':[1,2,3,4],'Name':['sanjay','saran','sam','ruba'],'Sub':['sub2','sub4','sub3','sub5']})\n",
    "print(left)\n",
    "print(right)\n",
    "print(pd.merge(left,right,on=\"id\"))"
   ]
  },
  {
   "cell_type": "code",
   "execution_count": null,
   "id": "a1f7e12d-d85b-4118-91d0-cc2c327f82a6",
   "metadata": {},
   "outputs": [],
   "source": []
  }
 ],
 "metadata": {
  "kernelspec": {
   "display_name": "Python 3 (ipykernel)",
   "language": "python",
   "name": "python3"
  },
  "language_info": {
   "codemirror_mode": {
    "name": "ipython",
    "version": 3
   },
   "file_extension": ".py",
   "mimetype": "text/x-python",
   "name": "python",
   "nbconvert_exporter": "python",
   "pygments_lexer": "ipython3",
   "version": "3.11.5"
  }
 },
 "nbformat": 4,
 "nbformat_minor": 5
}
