{
 "cells": [
  {
   "cell_type": "code",
   "execution_count": 5,
   "id": "e5eea010-38f3-42a4-945a-0cff49b221eb",
   "metadata": {},
   "outputs": [
    {
     "name": "stdout",
     "output_type": "stream",
     "text": [
      "Original DataFrame:\n",
      "         one       two     three\n",
      "a -0.449237  1.010649 -0.993401\n",
      "b       NaN       NaN       NaN\n",
      "c  0.192043 -1.384463  0.543875\n",
      "\n",
      "\n",
      "NaN replaced with '0':\n",
      "         one       two     three\n",
      "a -0.449237  1.010649 -0.993401\n",
      "b  0.000000  0.000000  0.000000\n",
      "c  0.192043 -1.384463  0.543875\n",
      "\n",
      "\n"
     ]
    }
   ],
   "source": [
    "import pandas as pd\n",
    "import numpy as np\n",
    "df=pd.DataFrame(np.random.randn(4,3),index=['a','c','d','f'],columns=['one','two','three'])\n",
    "df=df.reindex(['a','b','c'])\n",
    "print(\"Original DataFrame:\\n\",df)\n",
    "print(\"\\n\")\n",
    "print(\"NaN replaced with '0':\\n\",df.fillna(0))\n",
    "print(\"\\n\")"
   ]
  },
  {
   "cell_type": "code",
   "execution_count": 9,
   "id": "407d739f-a010-4d6e-8f5b-d69dfd9cd70e",
   "metadata": {
    "scrolled": true
   },
   "outputs": [
    {
     "name": "stdout",
     "output_type": "stream",
     "text": [
      "original DataFrame:\n",
      "    one  two\n",
      "0   10   60\n",
      "1   20   70\n",
      "2   80   80\n",
      "3   40    0\n",
      "4   50   10\n",
      "\n",
      " DataFrame with replaced values:\n",
      "\n",
      "   one  two\n",
      "0    5   60\n",
      "1   20   70\n",
      "2    3    3\n",
      "3   40    0\n",
      "4   50    5\n"
     ]
    }
   ],
   "source": [
    "df=pd.DataFrame({'one':[10,20,80,40,50],'two':[60,70,80,0,10]})\n",
    "print(\"original DataFrame:\\n\",df)\n",
    "print(\"\\n DataFrame with replaced values:\\n\")\n",
    "print(df.replace({10:5,80:3}))"
   ]
  },
  {
   "cell_type": "code",
   "execution_count": 12,
   "id": "a81f3add-a7c4-44c2-8649-a2735cd17f6d",
   "metadata": {},
   "outputs": [
    {
     "name": "stdout",
     "output_type": "stream",
     "text": [
      "Original Dataframe:\n",
      "         one       two     three\n",
      "a  0.499954  0.731850  0.557035\n",
      "b       NaN       NaN       NaN\n",
      "c  0.861919 -1.698723  1.614502\n",
      "d  0.571823  2.145436  0.130544\n",
      "e       NaN       NaN       NaN\n",
      "f -2.115878  1.153546  1.288650\n",
      "\n",
      " NaN.with Truefill:\n",
      "\n",
      "a    False\n",
      "b     True\n",
      "c    False\n",
      "d    False\n",
      "e     True\n",
      "f    False\n",
      "Name: one, dtype: bool\n"
     ]
    }
   ],
   "source": [
    "df=pd.DataFrame(np.random.randn(4,3),index=['a','c','d','f'],columns=['one','two','three'])\n",
    "df=df.reindex(['a','b','c','d','e','f'])\n",
    "print(\"Original Dataframe:\\n\",df)\n",
    "print(\"\\n NaN.with Truefill:\\n\")\n",
    "print(df['one'].isnull())"
   ]
  },
  {
   "cell_type": "code",
   "execution_count": 16,
   "id": "7a024ad5-f893-4cee-a882-3260ce8ff47d",
   "metadata": {},
   "outputs": [
    {
     "name": "stdout",
     "output_type": "stream",
     "text": [
      "\n",
      " NaN-filled with Background values:\n",
      "\n",
      "        one       two     three\n",
      "a  0.499954  0.731850  0.557035\n",
      "b  0.861919 -1.698723  1.614502\n",
      "c  0.861919 -1.698723  1.614502\n",
      "d  0.571823  2.145436  0.130544\n",
      "e -2.115878  1.153546  1.288650\n",
      "f -2.115878  1.153546  1.288650\n"
     ]
    }
   ],
   "source": [
    "print(\"\\n NaN-filled with Background values:\\n\")\n",
    "print(df.fillna(method='bfill'))"
   ]
  },
  {
   "cell_type": "code",
   "execution_count": 17,
   "id": "7627fc2c-459b-4308-a09e-6b91c8e99de5",
   "metadata": {},
   "outputs": [
    {
     "name": "stdout",
     "output_type": "stream",
     "text": [
      "        one       two     three\n",
      "a  0.499954  0.731850  0.557035\n",
      "b  0.499954  0.731850  0.557035\n",
      "c  0.861919 -1.698723  1.614502\n",
      "d  0.571823  2.145436  0.130544\n",
      "e  0.571823  2.145436  0.130544\n",
      "f -2.115878  1.153546  1.288650\n"
     ]
    }
   ],
   "source": [
    "print(df.ffill())"
   ]
  }
 ],
 "metadata": {
  "kernelspec": {
   "display_name": "Python 3 (ipykernel)",
   "language": "python",
   "name": "python3"
  },
  "language_info": {
   "codemirror_mode": {
    "name": "ipython",
    "version": 3
   },
   "file_extension": ".py",
   "mimetype": "text/x-python",
   "name": "python",
   "nbconvert_exporter": "python",
   "pygments_lexer": "ipython3",
   "version": "3.11.5"
  }
 },
 "nbformat": 4,
 "nbformat_minor": 5
}
